{
 "cells": [
  {
   "cell_type": "code",
   "execution_count": 12,
   "metadata": {},
   "outputs": [],
   "source": [
    "import pandas as pd"
   ]
  },
  {
   "cell_type": "code",
   "execution_count": 13,
   "metadata": {},
   "outputs": [],
   "source": [
    "t=pd.read_csv(\"nhanes32006ndi.csv\")"
   ]
  },
  {
   "cell_type": "markdown",
   "metadata": {},
   "source": [
    "## Selecting columns specified  in Running List of NHANES Variables and Descriptions…S III_1_28_19.xlsx"
   ]
  },
  {
   "cell_type": "code",
   "execution_count": 35,
   "metadata": {},
   "outputs": [],
   "source": [
    "t=t[['hsaitmor', 'dmarethn', 'hssex', 'dmppir', 'HAR1', 'HAD1', 'HAE2', 'HAC1C', 'HAD10', 'HAD6', 'HAE5A', 'HAE7', 'HAE9D', 'HAC1D', 'HAF10',\"mortstat\"]]"
   ]
  },
  {
   "cell_type": "code",
   "execution_count": 38,
   "metadata": {},
   "outputs": [
    {
     "data": {
      "text/plain": [
       "(18414, 16)"
      ]
     },
     "execution_count": 38,
     "metadata": {},
     "output_type": "execute_result"
    }
   ],
   "source": [
    "t.shape"
   ]
  },
  {
   "cell_type": "code",
   "execution_count": 44,
   "metadata": {},
   "outputs": [
    {
     "data": {
      "text/plain": [
       "Index([u'hsaitmor', u'dmarethn', u'hssex', u'dmppir', u'HAR1', u'HAD1',\n",
       "       u'HAE2', u'HAC1C', u'HAD10', u'HAD6', u'HAE5A', u'HAE7', u'HAE9D',\n",
       "       u'HAC1D', u'HAF10', u'mortstat'],\n",
       "      dtype='object')"
      ]
     },
     "execution_count": 44,
     "metadata": {},
     "output_type": "execute_result"
    }
   ],
   "source": [
    "t.columns"
   ]
  },
  {
   "cell_type": "code",
   "execution_count": null,
   "metadata": {},
   "outputs": [],
   "source": []
  },
  {
   "cell_type": "markdown",
   "metadata": {},
   "source": [
    "## Deleting columns containing more than 20 % NA values"
   ]
  },
  {
   "cell_type": "code",
   "execution_count": 47,
   "metadata": {},
   "outputs": [],
   "source": [
    "NA_value_df=pd.DataFrame(t.isnull().sum(),columns=[\"value\"])\n",
    "\n",
    "list_of_columns_to_be_deleted=list(NA_value_df[NA_value_df[\"value\"]>1319].index)\n",
    "\n",
    "for i in t.columns:\n",
    "    if i in list_of_columns_to_be_deleted:\n",
    "        t.drop(I,axis=1,inplace=True)\n"
   ]
  },
  {
   "cell_type": "code",
   "execution_count": 75,
   "metadata": {},
   "outputs": [],
   "source": [
    "t.to_csv(\"pre-processed-nhanes32006.csv\",index=None)"
   ]
  },
  {
   "cell_type": "code",
   "execution_count": null,
   "metadata": {},
   "outputs": [],
   "source": []
  }
 ],
 "metadata": {
  "kernelspec": {
   "display_name": "Python [conda root]",
   "language": "python",
   "name": "conda-root-py"
  },
  "language_info": {
   "codemirror_mode": {
    "name": "ipython",
    "version": 2
   },
   "file_extension": ".py",
   "mimetype": "text/x-python",
   "name": "python",
   "nbconvert_exporter": "python",
   "pygments_lexer": "ipython2",
   "version": "2.7.15"
  }
 },
 "nbformat": 4,
 "nbformat_minor": 2
}
